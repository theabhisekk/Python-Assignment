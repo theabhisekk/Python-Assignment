{
 "cells": [
  {
   "cell_type": "code",
   "execution_count": null,
   "id": "f3787f3b-22a6-4755-a4b5-f40dd41ecd27",
   "metadata": {},
   "outputs": [],
   "source": [
    "x=int(input(\"Enter a number: \")) #takes first input from user(integer)\n",
    "y=int(input(\"Enter another number: \")) #takes another integer as input from user\n",
    "#addition\n",
    "print(f\"The sum of {x} and {y} =\", x+y) #used + opperator \n",
    "#subtraction\n",
    "print(f\"The difference of {x} and {y} =\", x-y) #used - opperator\n",
    "#multiplication \n",
    "print(f\"The product of {x} and {y} =\", x*y) #used * operator\n",
    "#divison\n",
    "print(f\"The quotient of {x} by {y} =\", x/y) #used / operator for float answer\n",
    "#remainder\n",
    "print(f\"The remainder of {x} by {y} =\", x%y) #used the % operator\n",
    "#exponentiation \n",
    "print(f\"The answer of {x} to the power of {y} is=\", x**y) #used the ** operator\n",
    "#floor division\n",
    "print(f\"The floor division quotient of {x} by {y} is=\", x//y) #used // operator to get absolute answer"
   ]
  },
  {
   "cell_type": "code",
   "execution_count": null,
   "id": "0495fdf4-0544-4401-904d-73925061d44c",
   "metadata": {},
   "outputs": [],
   "source": [
    "#Question 2\n",
    "\n",
    "x=int(input(\"Enter a number: \"))\n",
    "y=int(input(\"Enter another number: \"))\n",
    "if x>y: #conditional statement with condition as x is greater than y\n",
    "    print(f\"{x} is greater than {y}\")\n",
    "if x==y: #conditional statement with condition as x is equal to y\n",
    "    print(f\"{x} is equal to {y}\")    \n",
    "if x<=y: #conditional statement with condition as x is less than or equal to y \n",
    "    print(f\"{x} is less than or equal to {y}\")"
   ]
  },
  {
   "cell_type": "code",
   "execution_count": null,
   "id": "0138469c-2ab3-4dc7-b709-3c549314edd3",
   "metadata": {},
   "outputs": [],
   "source": [
    "#Question 3\n",
    "\n",
    "x=bool(input(\"Enter 1 for True or 0 for False: \")) #takes boolean values as inputs \n",
    "y=bool(input(\"Enter 1 for True or 0 for False: \"))  #takes boolean values as inputs \n",
    "z=bool(input(\"Enter 1 for True or 0 for False: \"))   #takes boolean values as inputs\n",
    "\n",
    "\n",
    "and_operator=x and y and z #the  and operator is used to check if all the conditions are true\n",
    "print(\"The result of the AND operator is: \", and_operator) \n",
    "\n",
    "or_operator=x or y or z  #the or operator is used to check if any of the conditions are true\n",
    "print(\"The result of the OR operator is: \", or_operator)\n",
    "\n",
    "not_operator_x= not  x  #the not operator is used to check if the condition is false\n",
    "print(\"The result of the NOT operator for x is: \", not_operator_x)\n",
    "\n",
    "not_operator_y=not y   #the not operator is used to check if the condition is false\n",
    "print(\"The result of the NOT operator for y is: \", not_operator_y)\n",
    "\n",
    "not_operator_z=not z    #the not operator is used to check if the condition is false\n",
    "print(\"The result of the NOT operator for z is: \", not_operator_z)"
   ]
  },
  {
   "cell_type": "code",
   "execution_count": null,
   "id": "226a6c9d-eb03-4ca5-8fe3-badaf32fedf0",
   "metadata": {},
   "outputs": [],
   "source": [
    "#Question 4\n",
    "\n",
    "x=input(\"Enter a string: \")\n",
    "\n",
    "print(len(x)) #print the length of the string \n",
    "\n",
    "print(x[0])  # prints the first character of the string\n",
    "\n",
    "print(x[::-1]) #prints the string backwards \n",
    "\n",
    "print(x.upper) #prints the upper case version of th=e string \n",
    "\n",
    "print(x.lower) #prints the lower case version of the string"
   ]
  },
  {
   "cell_type": "code",
   "execution_count": null,
   "id": "b84f8724-191a-4a83-857b-5bdc9f64c786",
   "metadata": {},
   "outputs": [],
   "source": [
    "#Question 5\n",
    "\n",
    "x=int(input(\"Enter your age: \")) #takes integer input from user\n",
    "y=input(\"Enter your Name\")  #takes string input from user\n",
    "\n",
    "print(f\"Hello {y}, you are {x} years old\")  #prints the output in the specified format\n"
   ]
  },
  {
   "cell_type": "code",
   "execution_count": null,
   "id": "0975a938-d177-4207-b772-27985944bedf",
   "metadata": {},
   "outputs": [],
   "source": [
    "#Question 6\n",
    "\n",
    "x=input(\"Enter a sentence: \")\n",
    "y=input(\"Enter a word to search for in the sentence: \")\n",
    "\n",
    "if y in x:  \n",
    "    z=x.index(y)  #gives  the index of the first occurrence of the word\n",
    "    print(f\"The word '{y}' is in the sentence and is positioned at index {z}\") \n",
    "else: \n",
    "    print(f\"The word '{y}' is not in the sentence\")"
   ]
  },
  {
   "cell_type": "code",
   "execution_count": null,
   "id": "2ece330f-9e05-46f0-a4fb-597d094e3b04",
   "metadata": {},
   "outputs": [],
   "source": [
    "#Question 7\n",
    "\n",
    "a=[] #creates an empty list\n",
    "for i in range(5):  \n",
    "    x=int(input(f\"Enter the {i+1} number: \")) #asks for 5 numbers\n",
    "    a.append(x) #the append function adds an element to the end of the list\n",
    "    print(\"The list is: \", a)  #prints the list after each number is added\n",
    "\n",
    "print(\"The sum of all the terms is\", sum(a)) #prints the sum oif all numbers in the list\n",
    "print(\"The largest number in the list is\", max(a)) #prints the largest number in the list\n",
    "print(\"The smallest number in the list is\", min(a)) #prints the smallest number in the list \n"
   ]
  },
  {
   "cell_type": "code",
   "execution_count": null,
   "id": "3aab6d41-8db5-4df6-9b14-7ff68fd2ae07",
   "metadata": {},
   "outputs": [],
   "source": [
    "#Question 8\n",
    "\n",
    "a=[] #creates an empty list\n",
    "for i in range(5):  \n",
    "    x=input(f\"Enter a list of fruits you want {i}: \") #asks for user input \n",
    "    a.append(x) #the append function adds an element to the end of the list\n",
    "    print(\"The list is: \", a)  #prints the list after each number is added\n",
    "b=input(\"Enter a fruit of choice: \") #asks for 1 fruit of choice from the user\n",
    "a.append(b) #the list is appended with the fruit of choice\n",
    "print(a.pop(1)) # .pop(1) removes the 2nd item from the list\n",
    "print(\"The final list is: \",a)"
   ]
  },
  {
   "cell_type": "code",
   "execution_count": null,
   "id": "e26f1ea1-135c-4ccb-a912-e325027c633b",
   "metadata": {},
   "outputs": [],
   "source": [
    "#Question 9\n",
    "\n",
    "\n",
    "x = []\n",
    "for i in range(5):\n",
    "    a = int(input(f\"Enter number {i+1}: \")) #Ask the user to input a list of 5 numbers\n",
    "    x.append(a)\n",
    "\n",
    "# Sort the list in ascending order\n",
    "b = sorted(x)\n",
    "print(\"List in ascending order:\", b)\n",
    "\n",
    "# Sort the list in descending order\n",
    "c = sorted(x, reverse=True)\n",
    "print(\"List in descending order:\", c)\n"
   ]
  },
  {
   "cell_type": "code",
   "execution_count": null,
   "id": "f14557b5-f044-491c-8fc1-eb1646f94552",
   "metadata": {},
   "outputs": [],
   "source": [
    "#Question 10\n",
    "\n",
    "x=[1,2,3,4,5,6,7,8,9,10] #predefined list\n",
    "\n",
    "print(\"The first 5 elements of the list are:\", x[:5])\n",
    "print(\"The last 5 elements of the list are:\", x[-5:])\n",
    "print(\"The numbers from index 2 to index 7 are:\", x[2:8])\n"
   ]
  }
 ],
 "metadata": {
  "kernelspec": {
   "display_name": "Python 3 (ipykernel)",
   "language": "python",
   "name": "python3"
  },
  "language_info": {
   "codemirror_mode": {
    "name": "ipython",
    "version": 3
   },
   "file_extension": ".py",
   "mimetype": "text/x-python",
   "name": "python",
   "nbconvert_exporter": "python",
   "pygments_lexer": "ipython3",
   "version": "3.12.4"
  }
 },
 "nbformat": 4,
 "nbformat_minor": 5
}
